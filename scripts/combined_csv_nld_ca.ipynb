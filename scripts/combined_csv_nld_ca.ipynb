{
 "cells": [
  {
   "cell_type": "markdown",
   "metadata": {},
   "source": [
    "# GeoProcessing in Python\n",
    "\n",
    "Student: Daniel Kuhlen\n",
    "\n",
    "Instructors: \n",
    "- Dirk Pflugmacher\n",
    "- Matthias Baumann\n",
    "\n",
    "## Final Paper: NLD in El Salvador\n",
    "This file imports the 3-month interval files and combines them into one dataframe for following countries:\n",
    "\n",
    "- El Salvador\n",
    "- Belize\n",
    "- Costa Rica\n",
    "- San José\n",
    "- Guatemala\n",
    "- Honduras\n",
    "- Tegucigalpa\n",
    "- Nicaragua\n",
    "- Panama"
   ]
  },
  {
   "cell_type": "code",
   "execution_count": 1,
   "metadata": {},
   "outputs": [],
   "source": [
    "import pandas as pd\n",
    "import os"
   ]
  },
  {
   "cell_type": "code",
   "execution_count": 2,
   "metadata": {},
   "outputs": [],
   "source": [
    "### import ### \n",
    "\n",
    "# speficy the folder path\n",
    "folder_path = '../data/output/nightlight_raw/monthly'\n",
    "\n",
    "# initialize a dataframe to store the csv files\n",
    "dataframes = []\n",
    "\n",
    "# loop through all the files in the folder\n",
    "for filename in os.listdir(folder_path):\n",
    "    if filename.endswith('.csv'):\n",
    "        \n",
    "        #construct file path \n",
    "        file_path = os.path.join(folder_path, filename)\n",
    "\n",
    "        # read csv\n",
    "        df = pd.read_csv(file_path)\n",
    "        \n",
    "        # append to dataframe\n",
    "        dataframes.append(df)\n",
    "\n",
    "# concatenate all dataframes\n",
    "combined_df = pd.concat(dataframes, ignore_index=True)\n",
    "\n",
    "### export ###\n",
    "\n",
    "# construct file path\n",
    "combined_csv_path = os.path.join(folder_path, 'all_countries.csv')\n",
    "\n",
    "# save file\n",
    "combined_df.to_csv(combined_csv_path, index=False)\n"
   ]
  }
 ],
 "metadata": {
  "kernelspec": {
   "display_name": "venv",
   "language": "python",
   "name": "python3"
  },
  "language_info": {
   "codemirror_mode": {
    "name": "ipython",
    "version": 3
   },
   "file_extension": ".py",
   "mimetype": "text/x-python",
   "name": "python",
   "nbconvert_exporter": "python",
   "pygments_lexer": "ipython3",
   "version": "3.11.5"
  }
 },
 "nbformat": 4,
 "nbformat_minor": 2
}
